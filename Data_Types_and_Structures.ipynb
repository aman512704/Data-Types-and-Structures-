{
  "nbformat": 4,
  "nbformat_minor": 0,
  "metadata": {
    "colab": {
      "provenance": []
    },
    "kernelspec": {
      "name": "python3",
      "display_name": "Python 3"
    },
    "language_info": {
      "name": "python"
    }
  },
  "cells": [
    {
      "cell_type": "markdown",
      "source": [
        "\n",
        "**Q1. What are data structures, and why are they important?**  \n",
        "    Data structure is a way of storing and arranging data in computer. They are very importent because it make program faster, memory efficent and easy to use.\n",
        "\n",
        "---\n",
        "\n",
        "**Q2. Explain the difference between mutable and immutable data types with examples.**  \n",
        "    Mutable data types are those which can be change after creating, like list, dict and set.  \n",
        "    Immutable data types can not be change, like int, string, tuple. Example: list.append() works but string cannot be modifyed.\n",
        "\n",
        "---\n",
        "\n",
        "**Q3. What are the main differences between lists and tuples in Python?**  \n",
        "    List are mutable, means we can add or remove elements. Tuple are imutable, once created we cannot change.  \n",
        "    List is made with [ ] and tuple with ( ). Tuples are little faster then list also.\n",
        "\n",
        "---\n",
        "\n",
        "**Q4. Describe how dictionaries store data.**  \n",
        "    Dictionary store data in key:value pair. Inside python it uses hash table to store. It allow very fast access with keys. Example:        --{\"name\":\"Rahul\",\"age\":21}\n",
        "\n",
        "---\n",
        "\n",
        "**Q5. Why might you use a set instead of a list in Python?**  \n",
        "    We use set when we want only unique values. Set remove duplicate automatically and checking membership is very fast. List allow duplicates and searching is slow.\n",
        "\n",
        "---\n",
        "\n",
        "**Q6. What is a string in Python, and how is it different from a list?**  \n",
        "    String is sequence of characters which is immutable, cannot be changed after creation. List is sequence of elements which is mutable, we can change or update items.\n",
        "\n",
        "---\n",
        "\n",
        "**Q7. How do tuples ensure data integrity in Python?**  \n",
        "    Tuples are immutable so no one can change its data by mistake. Thats why they help to keep data safe and integrty is maintain.\n",
        "\n",
        "---\n",
        "\n",
        "**Q8. What is a hash table, and how does it relate to dictionaries in Python?**  \n",
        "    Hash table is a data structure where values are stored at positions decided by hash of key. Python dictionary is implemented using hash table only.\n",
        "\n",
        "---\n",
        "\n",
        "**Q9. Can lists contain different data types in Python?**  \n",
        "    Yes list can contain mix data types. Example: [1, \"hello\", 3.14, True] is a valid list.\n",
        "\n",
        "---\n",
        "\n",
        "**Q10. Explain why strings are immutable in Python.**  \n",
        "    Strings are immutable for many reasons like memory saving, caching and security.  \n",
        "    If strings are immutable they can be used in hashing also. Once created string object cannot be modifyed.\n",
        "\n",
        "---\n",
        "\n",
        "**Q11. What advantages do dictionaries offer over lists for certain tasks?**  \n",
        "    Dictionary give fast lookup using keys (almost O(1) time).  \n",
        "    It is more clear when we want mapping between things, like student_name → marks.  \n",
        "    List only allow index based search which is slower.\n",
        "\n",
        "---\n",
        "\n",
        "**Q12. Describe a scenario where using a tuple would be preferable over a list.**  \n",
        "    Tuple is better when we need fixed collection of items, like coordinates (x,y) or days of week.  \n",
        "    Also tuple can be used as key in dictionary, list cannot.\n",
        "\n",
        "---\n",
        "\n",
        "**Q13. How do sets handle duplicate values in Python?**  \n",
        "    Set automatic remove duplicate values.  \n",
        "    For example {1,2,2,3} will become {1,2,3}.  \n",
        "\n",
        "---\n",
        "\n",
        "**Q14. How does the `in` keyword work differently for lists and dictionaries?**  \n",
        "    In list, `in` check if value is present in elements.  \n",
        "    In dictionary, `in` check only for keys, not for values.  \n",
        "\n",
        "---\n",
        "\n",
        "**Q15. Can you modify the elements of a tuple? Explain why or why not.**  \n",
        "    No, tuple is immutable so its element cannot be changed.  \n",
        "    But if tuple contain a mutable object like list, that list can be changed inside.  \n",
        "\n",
        "---\n",
        "\n",
        "**Q16. What is a nested dictionary, and give an example of its use case.**  \n",
        "    Nested dictionary means dictionary inside another dictionary.  \n",
        "    Example: {\"student1\":{\"age\":20,\"city\":\"Delhi\"}, \"student2\":{\"age\":22,\"city\":\"Mumbai\"}}  \n",
        "    Useful for storing data of many objects with detail.  \n",
        "\n",
        "---\n",
        "\n",
        "**Q17. Describe the time complexity of accessing elements in a dictionary.**  \n",
        "    Accessing element by key in dictionary is average O(1).  \n",
        "    In worst case of hash collision it can be O(n), but mostly it is constant time.  \n",
        "\n",
        "---\n",
        "\n",
        "**Q18. In what situations are lists preferred over dictionaries?**  \n",
        "    List is better when order matters or we want to access using index.  \n",
        "    Also when data is small and simple sequence, list is easier.  \n",
        "\n",
        "---\n",
        "\n",
        "**Q19. Why are dictionaries considered unordered, and how does that affect data retrieval?**  \n",
        "    Earlier dictionary did not keep any order, only key based access.  \n",
        "    From Python 3.7 they maintain insertion order, but still conceptually retrieval is by key not position.  \n",
        "\n",
        "---\n",
        "\n",
        "**Q20. Explain the difference between a list and a dictionary in terms of data retrieval.**  \n",
        "    List retrieve elements by index numbers (0,1,2...).  \n",
        "    Dictionary retrieve elements by keys (like \"name\" or \"id\").  \n",
        "    So dictionary lookup is faster and more clear when we use keys.\n",
        "\n",
        "\n"
      ],
      "metadata": {
        "id": "hbaA_AgQxss1"
      }
    },
    {
      "cell_type": "code",
      "source": [
        "# Q1. Create a string with your name and print it\n",
        "name = \"Aman Sharma\"\n",
        "print(\"My name is:\", name)\n"
      ],
      "metadata": {
        "colab": {
          "base_uri": "https://localhost:8080/"
        },
        "id": "8SbA4OWk8gnp",
        "outputId": "46e9fb0b-b199-4d14-bd41-dce1f072580b"
      },
      "execution_count": null,
      "outputs": [
        {
          "output_type": "stream",
          "name": "stdout",
          "text": [
            "My name is: Aman Sharma\n"
          ]
        }
      ]
    },
    {
      "cell_type": "code",
      "source": [
        "# Q2. Find the length of the string \"Hello World\"\n",
        "s = \"Hello World\"\n",
        "print(\"Length:\", len(s))\n"
      ],
      "metadata": {
        "colab": {
          "base_uri": "https://localhost:8080/"
        },
        "id": "Ujq7Atcd8t5N",
        "outputId": "32cda563-782b-44b1-a00e-6f4b1280c36a"
      },
      "execution_count": null,
      "outputs": [
        {
          "output_type": "stream",
          "name": "stdout",
          "text": [
            "Length: 11\n"
          ]
        }
      ]
    },
    {
      "cell_type": "code",
      "source": [
        "# Q3. Slice the first 3 characters from \"Python Programming\"\n",
        "s2 = \"Python Programming\"\n",
        "print(\"First 3 chars:\", s2[:3])"
      ],
      "metadata": {
        "colab": {
          "base_uri": "https://localhost:8080/"
        },
        "id": "sCxms-Gt8vsr",
        "outputId": "7b8d923f-7ee4-485b-fba1-66de3f47253e"
      },
      "execution_count": null,
      "outputs": [
        {
          "output_type": "stream",
          "name": "stdout",
          "text": [
            "First 3 chars: Pyt\n"
          ]
        }
      ]
    },
    {
      "cell_type": "code",
      "source": [
        "# Q4. Convert \"hello\" to uppercase\n",
        "print(\"hello\".upper())"
      ],
      "metadata": {
        "colab": {
          "base_uri": "https://localhost:8080/"
        },
        "id": "KiB_jMAI8x2j",
        "outputId": "d8122942-6ea6-4821-c1db-d39e51822845"
      },
      "execution_count": null,
      "outputs": [
        {
          "output_type": "stream",
          "name": "stdout",
          "text": [
            "HELLO\n"
          ]
        }
      ]
    },
    {
      "cell_type": "code",
      "source": [
        "# Q5. Replace \"apple\" with \"orange\" in \"I like apple\"\n",
        "text = \"I like apple\"\n",
        "print(text.replace(\"apple\", \"orange\"))\n"
      ],
      "metadata": {
        "colab": {
          "base_uri": "https://localhost:8080/"
        },
        "id": "nqRjm1dG8zVc",
        "outputId": "1260661f-104b-422e-aadd-af4442786c21"
      },
      "execution_count": null,
      "outputs": [
        {
          "output_type": "stream",
          "name": "stdout",
          "text": [
            "I like orange\n"
          ]
        }
      ]
    },
    {
      "cell_type": "code",
      "source": [
        "# Q6. Create a list with numbers 1 to 5 and print it\n",
        "lst = [1, 2, 3, 4, 5]\n",
        "print(lst)"
      ],
      "metadata": {
        "colab": {
          "base_uri": "https://localhost:8080/"
        },
        "id": "Bzf3esLl81D1",
        "outputId": "515ee26e-db5f-4d41-c1cf-f14496ebb32d"
      },
      "execution_count": null,
      "outputs": [
        {
          "output_type": "stream",
          "name": "stdout",
          "text": [
            "[1, 2, 3, 4, 5]\n"
          ]
        }
      ]
    },
    {
      "cell_type": "code",
      "source": [
        "# Q7. Append number 10 to [1, 2, 3, 4]\n",
        "l2 = [1, 2, 3, 4]\n",
        "l2.append(10)\n",
        "print(l2)"
      ],
      "metadata": {
        "colab": {
          "base_uri": "https://localhost:8080/"
        },
        "id": "61OE1Yih820t",
        "outputId": "adeb9007-b871-4e09-f08f-a893a32b1dab"
      },
      "execution_count": null,
      "outputs": [
        {
          "output_type": "stream",
          "name": "stdout",
          "text": [
            "[1, 2, 3, 4, 10]\n"
          ]
        }
      ]
    },
    {
      "cell_type": "code",
      "source": [
        "# Q8. Remove number 3 from [1, 2, 3, 4, 5]\n",
        "l3 = [1, 2, 3, 4, 5]\n",
        "l3.remove(3)\n",
        "print(l3)"
      ],
      "metadata": {
        "colab": {
          "base_uri": "https://localhost:8080/"
        },
        "id": "6n9e5BUF84oG",
        "outputId": "b3b10405-da38-4572-bbb8-288583de1449"
      },
      "execution_count": null,
      "outputs": [
        {
          "output_type": "stream",
          "name": "stdout",
          "text": [
            "[1, 2, 4, 5]\n"
          ]
        }
      ]
    },
    {
      "cell_type": "code",
      "source": [
        "\n",
        "# Q9. Access the second element in ['a', 'b', 'c', 'd']\n",
        "chars = ['a', 'b', 'c', 'd']\n",
        "print(chars[1])"
      ],
      "metadata": {
        "colab": {
          "base_uri": "https://localhost:8080/"
        },
        "id": "SsvnnPq986ZW",
        "outputId": "9d32db78-c804-4e7d-f047-8120049a9666"
      },
      "execution_count": null,
      "outputs": [
        {
          "output_type": "stream",
          "name": "stdout",
          "text": [
            "b\n"
          ]
        }
      ]
    },
    {
      "cell_type": "code",
      "source": [
        "\n",
        "# Q10. Reverse the list [10, 20, 30, 40, 50]\n",
        "nums = [10, 20, 30, 40, 50]\n",
        "print(list(reversed(nums)))"
      ],
      "metadata": {
        "colab": {
          "base_uri": "https://localhost:8080/"
        },
        "id": "XoosbeHF88ab",
        "outputId": "45099bd7-fda3-4c96-963f-40f49a93a79a"
      },
      "execution_count": null,
      "outputs": [
        {
          "output_type": "stream",
          "name": "stdout",
          "text": [
            "[50, 40, 30, 20, 10]\n"
          ]
        }
      ]
    },
    {
      "cell_type": "code",
      "source": [
        "# Q11. Create a tuple with elements 100, 200, 300\n",
        "t = (100, 200, 300)\n",
        "print(t)"
      ],
      "metadata": {
        "colab": {
          "base_uri": "https://localhost:8080/"
        },
        "id": "eDnZ0A4M8-E8",
        "outputId": "4a849204-2eb6-4222-901a-4863b07e19a1"
      },
      "execution_count": null,
      "outputs": [
        {
          "output_type": "stream",
          "name": "stdout",
          "text": [
            "(100, 200, 300)\n"
          ]
        }
      ]
    },
    {
      "cell_type": "code",
      "source": [
        "# Q12. Access second-to-last element of ('red','green','blue','yellow')\n",
        "t2 = ('red','green','blue','yellow')\n",
        "print(t2[-2])"
      ],
      "metadata": {
        "colab": {
          "base_uri": "https://localhost:8080/"
        },
        "id": "CG3wh3Lv8_zs",
        "outputId": "b82dd474-6bb2-4aaa-daef-56fa465d80ff"
      },
      "execution_count": null,
      "outputs": [
        {
          "output_type": "stream",
          "name": "stdout",
          "text": [
            "blue\n"
          ]
        }
      ]
    },
    {
      "cell_type": "code",
      "source": [
        "# Q13. Find minimum number in (10,20,5,15)\n",
        "t3 = (10, 20, 5, 15)\n",
        "print(min(t3))"
      ],
      "metadata": {
        "colab": {
          "base_uri": "https://localhost:8080/"
        },
        "id": "69Efr-EZ9Bqs",
        "outputId": "760b2193-956c-4020-84df-7ae5946e6bb5"
      },
      "execution_count": null,
      "outputs": [
        {
          "output_type": "stream",
          "name": "stdout",
          "text": [
            "5\n"
          ]
        }
      ]
    },
    {
      "cell_type": "code",
      "source": [
        "# Q14. Find index of \"cat\" in ('dog','cat','rabbit')\n",
        "t4 = ('dog','cat','rabbit')\n",
        "print(t4.index(\"cat\"))"
      ],
      "metadata": {
        "colab": {
          "base_uri": "https://localhost:8080/"
        },
        "id": "ubM_VlqQ9DXD",
        "outputId": "6db5c6f5-3c97-4952-a771-ba90cf88e98b"
      },
      "execution_count": null,
      "outputs": [
        {
          "output_type": "stream",
          "name": "stdout",
          "text": [
            "1\n"
          ]
        }
      ]
    },
    {
      "cell_type": "code",
      "source": [
        "# Q15. Tuple of fruits and check \"kiwi\"\n",
        "fruits = ('apple','banana','mango')\n",
        "print(\"kiwi\" in fruits)"
      ],
      "metadata": {
        "colab": {
          "base_uri": "https://localhost:8080/"
        },
        "id": "azlehp2I9FUY",
        "outputId": "8dec2758-29f6-4a21-c90a-928c5a61aa0b"
      },
      "execution_count": null,
      "outputs": [
        {
          "output_type": "stream",
          "name": "stdout",
          "text": [
            "False\n"
          ]
        }
      ]
    },
    {
      "cell_type": "code",
      "source": [
        "# Q16. Create a set with 'a','b','c'\n",
        "s1 = {'a','b','c'}\n",
        "print(s1)"
      ],
      "metadata": {
        "colab": {
          "base_uri": "https://localhost:8080/"
        },
        "id": "ML7Ng3mQ9HS9",
        "outputId": "a8f2527c-74f9-47b1-d5f7-53f3af95e5fa"
      },
      "execution_count": null,
      "outputs": [
        {
          "output_type": "stream",
          "name": "stdout",
          "text": [
            "{'c', 'b', 'a'}\n"
          ]
        }
      ]
    },
    {
      "cell_type": "code",
      "source": [
        "# Q17. Clear all elements from {1,2,3,4,5}\n",
        "s2 = {1,2,3,4,5}\n",
        "s2.clear()\n",
        "print(s2)"
      ],
      "metadata": {
        "colab": {
          "base_uri": "https://localhost:8080/"
        },
        "id": "V61fbCVZ9I5j",
        "outputId": "18aeb4d8-7ba5-4176-c583-74e6ef98bf10"
      },
      "execution_count": null,
      "outputs": [
        {
          "output_type": "stream",
          "name": "stdout",
          "text": [
            "set()\n"
          ]
        }
      ]
    },
    {
      "cell_type": "code",
      "source": [
        "# Q18. Remove element 4 from {1,2,3,4}\n",
        "s3 = {1,2,3,4}\n",
        "s3.remove(4)\n",
        "print(s3)"
      ],
      "metadata": {
        "colab": {
          "base_uri": "https://localhost:8080/"
        },
        "id": "RFszFPcq9KeT",
        "outputId": "946c84eb-3bd8-4413-b47a-90194c052493"
      },
      "execution_count": null,
      "outputs": [
        {
          "output_type": "stream",
          "name": "stdout",
          "text": [
            "{1, 2, 3}\n"
          ]
        }
      ]
    },
    {
      "cell_type": "code",
      "source": [
        "# Q19. Union of {1,2,3} and {3,4,5}\n",
        "print({1,2,3} | {3,4,5})"
      ],
      "metadata": {
        "colab": {
          "base_uri": "https://localhost:8080/"
        },
        "id": "22MtacOY9MCj",
        "outputId": "fcf96f2d-eaf7-46c7-8fea-2af6d7a076b9"
      },
      "execution_count": null,
      "outputs": [
        {
          "output_type": "stream",
          "name": "stdout",
          "text": [
            "{1, 2, 3, 4, 5}\n"
          ]
        }
      ]
    },
    {
      "cell_type": "code",
      "source": [
        "# Q20. Intersection of {1,2,3} and {2,3,4}\n",
        "print({1,2,3} & {2,3,4})"
      ],
      "metadata": {
        "colab": {
          "base_uri": "https://localhost:8080/"
        },
        "id": "Kc5ozmin9NgP",
        "outputId": "b778660b-2991-4235-c388-e275d8c2e53a"
      },
      "execution_count": null,
      "outputs": [
        {
          "output_type": "stream",
          "name": "stdout",
          "text": [
            "{2, 3}\n"
          ]
        }
      ]
    },
    {
      "cell_type": "code",
      "source": [
        "# Q21. Create dictionary with keys name, age, city\n",
        "d1 = {\"name\":\"John\",\"age\":25,\"city\":\"New York\"}\n",
        "print(d1)"
      ],
      "metadata": {
        "colab": {
          "base_uri": "https://localhost:8080/"
        },
        "id": "cLL_N1gw9POD",
        "outputId": "faef30ab-31d9-433a-b631-5c94e590f8ce"
      },
      "execution_count": null,
      "outputs": [
        {
          "output_type": "stream",
          "name": "stdout",
          "text": [
            "{'name': 'John', 'age': 25, 'city': 'New York'}\n"
          ]
        }
      ]
    },
    {
      "cell_type": "code",
      "source": [
        "# Q22. Add \"country\":\"USA\" to {'name':'John','age':25}\n",
        "d2 = {'name':'John','age':25}\n",
        "d2['country'] = \"USA\"\n",
        "print(d2)"
      ],
      "metadata": {
        "colab": {
          "base_uri": "https://localhost:8080/"
        },
        "id": "MIbSd8v99QY2",
        "outputId": "49c84788-a3c5-48d0-9ce3-cde7c0104b70"
      },
      "execution_count": null,
      "outputs": [
        {
          "output_type": "stream",
          "name": "stdout",
          "text": [
            "{'name': 'John', 'age': 25, 'country': 'USA'}\n"
          ]
        }
      ]
    },
    {
      "cell_type": "code",
      "source": [
        "# Q23. Access value of key \"name\"\n",
        "d3 = {'name':'Alice','age':30}\n",
        "print(d3['name'])"
      ],
      "metadata": {
        "colab": {
          "base_uri": "https://localhost:8080/"
        },
        "id": "IjuMSlBn9S-t",
        "outputId": "036318ad-502b-4b51-f65e-a3ccc8c349f8"
      },
      "execution_count": null,
      "outputs": [
        {
          "output_type": "stream",
          "name": "stdout",
          "text": [
            "Alice\n"
          ]
        }
      ]
    },
    {
      "cell_type": "code",
      "source": [
        "# Q24. Remove key \"age\"\n",
        "d4 = {'name':'Bob','age':22,'city':'New York'}\n",
        "d4.pop('age')\n",
        "print(d4)"
      ],
      "metadata": {
        "colab": {
          "base_uri": "https://localhost:8080/"
        },
        "id": "fZhBrVqq9Ucb",
        "outputId": "e04d9ebe-92ef-4c37-a5ab-76721fade00f"
      },
      "execution_count": null,
      "outputs": [
        {
          "output_type": "stream",
          "name": "stdout",
          "text": [
            "{'name': 'Bob', 'city': 'New York'}\n"
          ]
        }
      ]
    },
    {
      "cell_type": "code",
      "source": [
        "# Q25. Check if key \"city\" exists\n",
        "d5 = {'name':'Alice','city':'Paris'}\n",
        "print(\"city\" in d5)"
      ],
      "metadata": {
        "colab": {
          "base_uri": "https://localhost:8080/"
        },
        "id": "cWbCvwCJ9WR0",
        "outputId": "c11d2c8e-9c27-4124-e35d-448f57d67ae2"
      },
      "execution_count": null,
      "outputs": [
        {
          "output_type": "stream",
          "name": "stdout",
          "text": [
            "True\n"
          ]
        }
      ]
    },
    {
      "cell_type": "code",
      "source": [
        "# Q26. Create list, tuple and dictionary and print them\n",
        "my_list = [1,2,3]\n",
        "my_tuple = (4,5,6)\n",
        "my_dict = {\"a\":1,\"b\":2}\n",
        "print(my_list)\n",
        "print(my_tuple)\n",
        "print(my_dict)"
      ],
      "metadata": {
        "colab": {
          "base_uri": "https://localhost:8080/"
        },
        "id": "UutnBzcm9YWc",
        "outputId": "7e4ece79-55e3-48fd-9ee7-14a8f9d6daa8"
      },
      "execution_count": null,
      "outputs": [
        {
          "output_type": "stream",
          "name": "stdout",
          "text": [
            "[1, 2, 3]\n",
            "(4, 5, 6)\n",
            "{'a': 1, 'b': 2}\n"
          ]
        }
      ]
    },
    {
      "cell_type": "code",
      "source": [
        "# Q27. Create 5 random numbers list, sort and print\n",
        "import random\n",
        "rand_list = [random.randint(1,100) for _ in range(5)]\n",
        "rand_list.sort()\n",
        "print(rand_list)"
      ],
      "metadata": {
        "colab": {
          "base_uri": "https://localhost:8080/"
        },
        "id": "3UsU9su29aE-",
        "outputId": "945eda83-00cd-40ed-bacd-5c16fa516aa0"
      },
      "execution_count": null,
      "outputs": [
        {
          "output_type": "stream",
          "name": "stdout",
          "text": [
            "[22, 59, 83, 100, 100]\n"
          ]
        }
      ]
    },
    {
      "cell_type": "code",
      "source": [
        "# Q28. Create list of strings and print element at index 3\n",
        "str_list = ['zero','one','two','three','four']\n",
        "print(str_list[3])"
      ],
      "metadata": {
        "colab": {
          "base_uri": "https://localhost:8080/"
        },
        "id": "o9TrOBKZ9b96",
        "outputId": "9e8c4007-0937-4266-d225-265630b21d02"
      },
      "execution_count": null,
      "outputs": [
        {
          "output_type": "stream",
          "name": "stdout",
          "text": [
            "three\n"
          ]
        }
      ]
    },
    {
      "cell_type": "code",
      "source": [
        "# Q29. Combine two dictionaries\n",
        "a = {'x':1,'y':2}\n",
        "b = {'y':3,'z':4}\n",
        "combined = {**a, **b}\n",
        "print(combined)"
      ],
      "metadata": {
        "colab": {
          "base_uri": "https://localhost:8080/"
        },
        "id": "fFctYKRZ9dsb",
        "outputId": "682c8949-d70f-4512-f694-2d8b2fd57274"
      },
      "execution_count": null,
      "outputs": [
        {
          "output_type": "stream",
          "name": "stdout",
          "text": [
            "{'x': 1, 'y': 3, 'z': 4}\n"
          ]
        }
      ]
    },
    {
      "cell_type": "code",
      "source": [
        "# Q30. Convert list of strings into set\n",
        "lst_strings = ['apple','orange','apple','banana']\n",
        "print(set(lst_strings))"
      ],
      "metadata": {
        "colab": {
          "base_uri": "https://localhost:8080/"
        },
        "id": "KlUVqpoj9fgm",
        "outputId": "d9798521-1742-4f38-907e-d385a09a3631"
      },
      "execution_count": null,
      "outputs": [
        {
          "output_type": "stream",
          "name": "stdout",
          "text": [
            "{'orange', 'apple', 'banana'}\n"
          ]
        }
      ]
    }
  ]
}